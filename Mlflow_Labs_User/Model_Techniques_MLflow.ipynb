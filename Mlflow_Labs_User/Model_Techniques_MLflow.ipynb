{
 "cells": [
  {
   "cell_type": "code",
   "execution_count": null,
   "id": "d4a671f7",
   "metadata": {},
   "outputs": [],
   "source": [
    "import pandas as pd\n",
    "import numpy as np\n",
    "from sklearn.model_selection import train_test_split\n",
    "import mlflow\n",
    "import kagglehub\n",
    "import pandas as pd\n",
    "import os\n",
    "from sklearn.linear_model import LogisticRegression\n",
    "from sklearn.ensemble import RandomForestClassifier\n",
    "from xgboost import XGBClassifier\n",
    "from sklearn.neural_network import MLPClassifier\n",
    "from sklearn.metrics import accuracy_score, f1_score, roc_auc_score, precision_score, recall_score\n",
    "from mlflow.models.signature import infer_signature\n",
    "from urllib.parse import urlparse\n",
    "from imblearn.over_sampling import SMOTE\n",
    "\n",
    "mlflow.set_tracking_uri(\"http://127.0.0.1:5001\")\n",
    "mlflow.set_experiment(\"Model_Comparison_LC\")"
   ]
  },
  {
   "cell_type": "markdown",
   "id": "caf8fcfd",
   "metadata": {},
   "source": [
    "### Download Data"
   ]
  },
  {
   "cell_type": "code",
   "execution_count": 2,
   "id": "fd06ed71",
   "metadata": {},
   "outputs": [
    {
     "name": "stdout",
     "output_type": "stream",
     "text": [
      "Warning: Looks like you're using an outdated `kagglehub` version, please consider updating (latest version: 0.3.13)\n"
     ]
    }
   ],
   "source": [
    "path = kagglehub.dataset_download(\"rainelai/lendingclubs-bank-loan-default-dataset\")\n",
    "data_path = os.path.join(path, \"data\")\n",
    "files = os.listdir(data_path)\n",
    "csv_file = [f for f in files if f.endswith(\"trainingset.csv\")][0]\n",
    "\n",
    "dev = pd.read_csv(os.path.join(data_path, csv_file))\n",
    "dev['Bad_Flag'] = [1 if dev['loan_status'].iloc[i] == 'Charged Off' else 0 for i in range(len(dev))]\n",
    "dev = dev.select_dtypes(include=['number'])\n",
    "dev = dev.fillna(0)\n",
    "X_train, X_test, y_train, y_test = train_test_split(dev.drop(columns=['Bad_Flag'], axis = 1), dev['Bad_Flag'])"
   ]
  },
  {
   "cell_type": "markdown",
   "id": "6c345e57",
   "metadata": {},
   "source": [
    "### Imbalanced Dataset Run"
   ]
  },
  {
   "cell_type": "code",
   "execution_count": null,
   "id": "a715e207",
   "metadata": {},
   "outputs": [
    {
     "name": "stdout",
     "output_type": "stream",
     "text": [
      "Warning: Looks like you're using an outdated `kagglehub` version, please consider updating (latest version: 0.3.13)\n"
     ]
    },
    {
     "name": "stderr",
     "output_type": "stream",
     "text": [
      "/opt/anaconda3/lib/python3.12/site-packages/sklearn/linear_model/_logistic.py:469: ConvergenceWarning: lbfgs failed to converge (status=1):\n",
      "STOP: TOTAL NO. of ITERATIONS REACHED LIMIT.\n",
      "\n",
      "Increase the number of iterations (max_iter) or scale the data as shown in:\n",
      "    https://scikit-learn.org/stable/modules/preprocessing.html\n",
      "Please also refer to the documentation for alternative solver options:\n",
      "    https://scikit-learn.org/stable/modules/linear_model.html#logistic-regression\n",
      "  n_iter_i = _check_optimize_result(\n",
      "/opt/anaconda3/lib/python3.12/site-packages/mlflow/types/utils.py:452: UserWarning: Hint: Inferred schema contains integer column(s). Integer columns in Python cannot represent missing values. If your input data contains missing values at inference time, it will be encoded as floats and will cause a schema enforcement error. The best way to avoid this problem is to infer the model schema based on a realistic data sample (training dataset) that includes missing values. Alternatively, you can declare integer columns as doubles (float64) whenever these columns may have missing values. See `Handling Integers With Missing Values <https://www.mlflow.org/docs/latest/models.html#handling-integers-with-missing-values>`_ for more details.\n",
      "  warnings.warn(\n",
      "2025/10/30 23:08:32 WARNING mlflow.models.model: `artifact_path` is deprecated. Please use `name` instead.\n",
      "2025/10/30 23:08:36 INFO mlflow.models.model: Found the following environment variables used during model inference: [HF_API_TOKEN]. Please check if you need to set them when deploying the model. To disable this message, set environment variable `MLFLOW_RECORD_ENV_VARS_IN_MODEL_LOGGING` to `false`.\n",
      "Successfully registered model 'LogisticRegression'.\n",
      "2025/10/30 23:08:36 INFO mlflow.store.model_registry.abstract_store: Waiting up to 300 seconds for model version to finish creation. Model name: LogisticRegression, version 1\n",
      "Created version '1' of model 'LogisticRegression'.\n"
     ]
    },
    {
     "name": "stdout",
     "output_type": "stream",
     "text": [
      "🏃 View run LogisticRegression at: http://127.0.0.1:5001/#/experiments/1/runs/25f4390de0824980baa74e177e05ed0d\n",
      "🧪 View experiment at: http://127.0.0.1:5001/#/experiments/1\n"
     ]
    },
    {
     "name": "stderr",
     "output_type": "stream",
     "text": [
      "/opt/anaconda3/lib/python3.12/site-packages/mlflow/types/utils.py:452: UserWarning: Hint: Inferred schema contains integer column(s). Integer columns in Python cannot represent missing values. If your input data contains missing values at inference time, it will be encoded as floats and will cause a schema enforcement error. The best way to avoid this problem is to infer the model schema based on a realistic data sample (training dataset) that includes missing values. Alternatively, you can declare integer columns as doubles (float64) whenever these columns may have missing values. See `Handling Integers With Missing Values <https://www.mlflow.org/docs/latest/models.html#handling-integers-with-missing-values>`_ for more details.\n",
      "  warnings.warn(\n",
      "2025/10/30 23:10:08 WARNING mlflow.models.model: `artifact_path` is deprecated. Please use `name` instead.\n",
      "Successfully registered model 'RandomForest'.\n",
      "2025/10/30 23:10:15 INFO mlflow.store.model_registry.abstract_store: Waiting up to 300 seconds for model version to finish creation. Model name: RandomForest, version 1\n",
      "Created version '1' of model 'RandomForest'.\n"
     ]
    },
    {
     "name": "stdout",
     "output_type": "stream",
     "text": [
      "🏃 View run RandomForest at: http://127.0.0.1:5001/#/experiments/1/runs/7c7f81f9a81f45aca76cac9298fa0a6d\n",
      "🧪 View experiment at: http://127.0.0.1:5001/#/experiments/1\n"
     ]
    },
    {
     "name": "stderr",
     "output_type": "stream",
     "text": [
      "/opt/anaconda3/lib/python3.12/site-packages/mlflow/types/utils.py:452: UserWarning: Hint: Inferred schema contains integer column(s). Integer columns in Python cannot represent missing values. If your input data contains missing values at inference time, it will be encoded as floats and will cause a schema enforcement error. The best way to avoid this problem is to infer the model schema based on a realistic data sample (training dataset) that includes missing values. Alternatively, you can declare integer columns as doubles (float64) whenever these columns may have missing values. See `Handling Integers With Missing Values <https://www.mlflow.org/docs/latest/models.html#handling-integers-with-missing-values>`_ for more details.\n",
      "  warnings.warn(\n",
      "2025/10/30 23:10:18 WARNING mlflow.models.model: `artifact_path` is deprecated. Please use `name` instead.\n",
      "Successfully registered model 'XGBoost'.\n",
      "2025/10/30 23:10:21 INFO mlflow.store.model_registry.abstract_store: Waiting up to 300 seconds for model version to finish creation. Model name: XGBoost, version 1\n",
      "Created version '1' of model 'XGBoost'.\n"
     ]
    },
    {
     "name": "stdout",
     "output_type": "stream",
     "text": [
      "🏃 View run XGBoost at: http://127.0.0.1:5001/#/experiments/1/runs/db27b733926242db9ec996bf344b776d\n",
      "🧪 View experiment at: http://127.0.0.1:5001/#/experiments/1\n"
     ]
    },
    {
     "name": "stderr",
     "output_type": "stream",
     "text": [
      "/opt/anaconda3/lib/python3.12/site-packages/sklearn/metrics/_classification.py:1509: UndefinedMetricWarning: Precision is ill-defined and being set to 0.0 due to no predicted samples. Use `zero_division` parameter to control this behavior.\n",
      "  _warn_prf(average, modifier, f\"{metric.capitalize()} is\", len(result))\n",
      "/opt/anaconda3/lib/python3.12/site-packages/mlflow/types/utils.py:452: UserWarning: Hint: Inferred schema contains integer column(s). Integer columns in Python cannot represent missing values. If your input data contains missing values at inference time, it will be encoded as floats and will cause a schema enforcement error. The best way to avoid this problem is to infer the model schema based on a realistic data sample (training dataset) that includes missing values. Alternatively, you can declare integer columns as doubles (float64) whenever these columns may have missing values. See `Handling Integers With Missing Values <https://www.mlflow.org/docs/latest/models.html#handling-integers-with-missing-values>`_ for more details.\n",
      "  warnings.warn(\n",
      "2025/10/30 23:10:58 WARNING mlflow.models.model: `artifact_path` is deprecated. Please use `name` instead.\n",
      "Successfully registered model 'NeuralNet'.\n",
      "2025/10/30 23:11:00 INFO mlflow.store.model_registry.abstract_store: Waiting up to 300 seconds for model version to finish creation. Model name: NeuralNet, version 1\n"
     ]
    },
    {
     "name": "stdout",
     "output_type": "stream",
     "text": [
      "🏃 View run NeuralNet at: http://127.0.0.1:5001/#/experiments/1/runs/21e6f28d0ef047e28d416bd8e0eed14b\n",
      "🧪 View experiment at: http://127.0.0.1:5001/#/experiments/1\n",
      "🏃 View run Model_Comparison_LC at: http://127.0.0.1:5001/#/experiments/1/runs/8844a613e0dd4654958a83dba5c0d2a9\n",
      "🧪 View experiment at: http://127.0.0.1:5001/#/experiments/1\n"
     ]
    },
    {
     "name": "stderr",
     "output_type": "stream",
     "text": [
      "Created version '1' of model 'NeuralNet'.\n"
     ]
    }
   ],
   "source": [
    "path = kagglehub.dataset_download(\"rainelai/lendingclubs-bank-loan-default-dataset\")\n",
    "data_path = os.path.join(path, \"data\")\n",
    "files = os.listdir(data_path)\n",
    "csv_file = [f for f in files if f.endswith(\"trainingset.csv\")][0]\n",
    "\n",
    "dev = pd.read_csv(os.path.join(data_path, csv_file))\n",
    "dev['Bad_Flag'] = [1 if dev['loan_status'].iloc[i] == 'Charged Off' else 0 for i in range(len(dev))]\n",
    "dev = dev.select_dtypes(include=['number'])\n",
    "dev = dev.fillna(0)\n",
    "X_train, X_test, y_train, y_test = train_test_split(dev.drop(columns=['Bad_Flag'], axis = 1), dev['Bad_Flag'])\n",
    "\n",
    "models = {\n",
    "    \"LogisticRegression\": LogisticRegression(max_iter=2000),\n",
    "    \"RandomForest\": RandomForestClassifier(n_estimators=200, random_state=2),\n",
    "    \"XGBoost\": XGBClassifier(n_estimators=300, learning_rate=0.05, max_depth=5, subsample=0.8, eval_metric=\"logloss\", random_state=2),\n",
    "    \"NeuralNet\": MLPClassifier(hidden_layer_sizes=(128, 64), activation='relu', solver='adam', max_iter=300, random_state=2)\n",
    "}\n",
    "\n",
    "with mlflow.start_run(run_name=\"Model_Comparison_LC\"):  # parent (NO nested flag)\n",
    "    \n",
    "    for model_name, model in models.items():\n",
    "\n",
    "        with mlflow.start_run(run_name=model_name, nested=True):  # child runs\n",
    "\n",
    "            model.fit(X_train, y_train)\n",
    "            preds = model.predict(X_test)\n",
    "            probs = model.predict_proba(X_test)[:, 1]\n",
    "\n",
    "            mlflow.log_params(model.get_params())\n",
    "            mlflow.log_metric(\"accuracy\", accuracy_score(y_test, preds))\n",
    "            mlflow.log_metric(\"f1_score\", f1_score(y_test, preds))\n",
    "            mlflow.log_metric(\"roc_auc\", roc_auc_score(y_test, probs))\n",
    "            mlflow.log_metric(\"precision\", precision_score(y_test, preds))\n",
    "            mlflow.log_metric(\"recall\", recall_score(y_test, preds))\n",
    "\n",
    "            signature = infer_signature(X_train, model.predict(X_train))\n",
    "            input_example = X_train[:5]\n",
    "\n",
    "            mlflow.sklearn.log_model(\n",
    "                model,\n",
    "                artifact_path=model_name,\n",
    "                registered_model_name=model_name,\n",
    "                signature=signature,\n",
    "                input_example=input_example\n",
    "            )"
   ]
  },
  {
   "cell_type": "markdown",
   "id": "f57e6b9a",
   "metadata": {},
   "source": [
    "### SMOTE Run"
   ]
  },
  {
   "cell_type": "code",
   "execution_count": null,
   "id": "90cf322a",
   "metadata": {},
   "outputs": [
    {
     "name": "stderr",
     "output_type": "stream",
     "text": [
      "/opt/anaconda3/lib/python3.12/site-packages/sklearn/linear_model/_logistic.py:469: ConvergenceWarning: lbfgs failed to converge (status=1):\n",
      "STOP: TOTAL NO. of ITERATIONS REACHED LIMIT.\n",
      "\n",
      "Increase the number of iterations (max_iter) or scale the data as shown in:\n",
      "    https://scikit-learn.org/stable/modules/preprocessing.html\n",
      "Please also refer to the documentation for alternative solver options:\n",
      "    https://scikit-learn.org/stable/modules/linear_model.html#logistic-regression\n",
      "  n_iter_i = _check_optimize_result(\n",
      "/opt/anaconda3/lib/python3.12/site-packages/mlflow/types/utils.py:452: UserWarning: Hint: Inferred schema contains integer column(s). Integer columns in Python cannot represent missing values. If your input data contains missing values at inference time, it will be encoded as floats and will cause a schema enforcement error. The best way to avoid this problem is to infer the model schema based on a realistic data sample (training dataset) that includes missing values. Alternatively, you can declare integer columns as doubles (float64) whenever these columns may have missing values. See `Handling Integers With Missing Values <https://www.mlflow.org/docs/latest/models.html#handling-integers-with-missing-values>`_ for more details.\n",
      "  warnings.warn(\n",
      "2025/10/31 10:26:26 WARNING mlflow.models.model: `artifact_path` is deprecated. Please use `name` instead.\n",
      "Successfully registered model 'LogisticRegression_SMOTE'.\n",
      "2025/10/31 10:26:29 INFO mlflow.store.model_registry.abstract_store: Waiting up to 300 seconds for model version to finish creation. Model name: LogisticRegression_SMOTE, version 1\n",
      "Created version '1' of model 'LogisticRegression_SMOTE'.\n"
     ]
    },
    {
     "name": "stdout",
     "output_type": "stream",
     "text": [
      "🏃 View run LogisticRegression_SMOTE at: http://127.0.0.1:5001/#/experiments/1/runs/af91d79785ed4b019a6cc35ede7ed1a6\n",
      "🧪 View experiment at: http://127.0.0.1:5001/#/experiments/1\n"
     ]
    },
    {
     "name": "stderr",
     "output_type": "stream",
     "text": [
      "/opt/anaconda3/lib/python3.12/site-packages/mlflow/types/utils.py:452: UserWarning: Hint: Inferred schema contains integer column(s). Integer columns in Python cannot represent missing values. If your input data contains missing values at inference time, it will be encoded as floats and will cause a schema enforcement error. The best way to avoid this problem is to infer the model schema based on a realistic data sample (training dataset) that includes missing values. Alternatively, you can declare integer columns as doubles (float64) whenever these columns may have missing values. See `Handling Integers With Missing Values <https://www.mlflow.org/docs/latest/models.html#handling-integers-with-missing-values>`_ for more details.\n",
      "  warnings.warn(\n",
      "2025/10/31 10:29:16 WARNING mlflow.models.model: `artifact_path` is deprecated. Please use `name` instead.\n",
      "Successfully registered model 'RandomForest_SMOTE'.\n",
      "2025/10/31 10:29:27 INFO mlflow.store.model_registry.abstract_store: Waiting up to 300 seconds for model version to finish creation. Model name: RandomForest_SMOTE, version 1\n",
      "Created version '1' of model 'RandomForest_SMOTE'.\n"
     ]
    },
    {
     "name": "stdout",
     "output_type": "stream",
     "text": [
      "🏃 View run RandomForest_SMOTE at: http://127.0.0.1:5001/#/experiments/1/runs/5e7ff698c76041a0a70fbf9a266b102f\n",
      "🧪 View experiment at: http://127.0.0.1:5001/#/experiments/1\n"
     ]
    },
    {
     "name": "stderr",
     "output_type": "stream",
     "text": [
      "/opt/anaconda3/lib/python3.12/site-packages/mlflow/types/utils.py:452: UserWarning: Hint: Inferred schema contains integer column(s). Integer columns in Python cannot represent missing values. If your input data contains missing values at inference time, it will be encoded as floats and will cause a schema enforcement error. The best way to avoid this problem is to infer the model schema based on a realistic data sample (training dataset) that includes missing values. Alternatively, you can declare integer columns as doubles (float64) whenever these columns may have missing values. See `Handling Integers With Missing Values <https://www.mlflow.org/docs/latest/models.html#handling-integers-with-missing-values>`_ for more details.\n",
      "  warnings.warn(\n",
      "2025/10/31 10:29:31 WARNING mlflow.models.model: `artifact_path` is deprecated. Please use `name` instead.\n",
      "Successfully registered model 'XGBoost_SMOTE'.\n",
      "2025/10/31 10:29:37 INFO mlflow.store.model_registry.abstract_store: Waiting up to 300 seconds for model version to finish creation. Model name: XGBoost_SMOTE, version 1\n",
      "Created version '1' of model 'XGBoost_SMOTE'.\n"
     ]
    },
    {
     "name": "stdout",
     "output_type": "stream",
     "text": [
      "🏃 View run XGBoost_SMOTE at: http://127.0.0.1:5001/#/experiments/1/runs/a0a3a4b6b83746c49311bf25d63b63ce\n",
      "🧪 View experiment at: http://127.0.0.1:5001/#/experiments/1\n"
     ]
    },
    {
     "name": "stderr",
     "output_type": "stream",
     "text": [
      "/opt/anaconda3/lib/python3.12/site-packages/sklearn/metrics/_classification.py:1509: UndefinedMetricWarning: Precision is ill-defined and being set to 0.0 due to no predicted samples. Use `zero_division` parameter to control this behavior.\n",
      "  _warn_prf(average, modifier, f\"{metric.capitalize()} is\", len(result))\n",
      "/opt/anaconda3/lib/python3.12/site-packages/mlflow/types/utils.py:452: UserWarning: Hint: Inferred schema contains integer column(s). Integer columns in Python cannot represent missing values. If your input data contains missing values at inference time, it will be encoded as floats and will cause a schema enforcement error. The best way to avoid this problem is to infer the model schema based on a realistic data sample (training dataset) that includes missing values. Alternatively, you can declare integer columns as doubles (float64) whenever these columns may have missing values. See `Handling Integers With Missing Values <https://www.mlflow.org/docs/latest/models.html#handling-integers-with-missing-values>`_ for more details.\n",
      "  warnings.warn(\n",
      "2025/10/31 10:30:21 WARNING mlflow.models.model: `artifact_path` is deprecated. Please use `name` instead.\n",
      "Successfully registered model 'NeuralNet_SMOTE'.\n",
      "2025/10/31 10:30:23 INFO mlflow.store.model_registry.abstract_store: Waiting up to 300 seconds for model version to finish creation. Model name: NeuralNet_SMOTE, version 1\n"
     ]
    },
    {
     "name": "stdout",
     "output_type": "stream",
     "text": [
      "🏃 View run NeuralNet_SMOTE at: http://127.0.0.1:5001/#/experiments/1/runs/742a3185cb3641aa9b903e1ccf067eb3\n",
      "🧪 View experiment at: http://127.0.0.1:5001/#/experiments/1\n",
      "🏃 View run Model_Comparison_SMOTE at: http://127.0.0.1:5001/#/experiments/1/runs/6e16fb69edfb4ff3bb75dd68d6f90a56\n",
      "🧪 View experiment at: http://127.0.0.1:5001/#/experiments/1\n"
     ]
    },
    {
     "name": "stderr",
     "output_type": "stream",
     "text": [
      "Created version '1' of model 'NeuralNet_SMOTE'.\n"
     ]
    }
   ],
   "source": [
    "smote = SMOTE(random_state=2)\n",
    "X_train_sm, y_train_sm = smote.fit_resample(X_train, y_train)\n",
    "\n",
    "with mlflow.start_run(run_name=\"Model_Comparison_SMOTE\"):\n",
    "\n",
    "    for model_name, model in models.items():\n",
    "        with mlflow.start_run(run_name=f\"{model_name}_SMOTE\", nested=True):\n",
    "\n",
    "            # Train on SMOTE-balanced data\n",
    "            model.fit(X_train_sm, y_train_sm)\n",
    "\n",
    "            # Evaluate on original (Non-SMOTE) test data\n",
    "            preds = model.predict(X_test)\n",
    "            probs = model.predict_proba(X_test)[:,1]\n",
    "\n",
    "            mlflow.log_params(model.get_params())\n",
    "            mlflow.log_metric(\"accuracy\", accuracy_score(y_test, preds))\n",
    "            mlflow.log_metric(\"f1_score\", f1_score(y_test, preds))\n",
    "            mlflow.log_metric(\"roc_auc\", roc_auc_score(y_test, probs))\n",
    "            mlflow.log_metric(\"precision\", precision_score(y_test, preds))\n",
    "            mlflow.log_metric(\"recall\", recall_score(y_test, preds))\n",
    "\n",
    "            signature = infer_signature(X_train_sm, model.predict(X_train_sm))\n",
    "            input_example = X_train_sm[:5]\n",
    "\n",
    "            mlflow.sklearn.log_model(\n",
    "                model,\n",
    "                artifact_path=model_name+\"_SMOTE\",\n",
    "                registered_model_name=model_name+\"_SMOTE\",\n",
    "                signature=signature,\n",
    "                input_example=input_example\n",
    "            )"
   ]
  },
  {
   "cell_type": "markdown",
   "id": "733a176d",
   "metadata": {},
   "source": [
    "### RF-Balanced & XGBoost-Scaled Runs\n",
    "#### Executed on Non-SMOTE Data"
   ]
  },
  {
   "cell_type": "code",
   "execution_count": 9,
   "id": "615dbbd8",
   "metadata": {},
   "outputs": [
    {
     "name": "stderr",
     "output_type": "stream",
     "text": [
      "/opt/anaconda3/lib/python3.12/site-packages/sklearn/linear_model/_logistic.py:469: ConvergenceWarning: lbfgs failed to converge (status=1):\n",
      "STOP: TOTAL NO. of ITERATIONS REACHED LIMIT.\n",
      "\n",
      "Increase the number of iterations (max_iter) or scale the data as shown in:\n",
      "    https://scikit-learn.org/stable/modules/preprocessing.html\n",
      "Please also refer to the documentation for alternative solver options:\n",
      "    https://scikit-learn.org/stable/modules/linear_model.html#logistic-regression\n",
      "  n_iter_i = _check_optimize_result(\n",
      "/opt/anaconda3/lib/python3.12/site-packages/mlflow/types/utils.py:452: UserWarning: Hint: Inferred schema contains integer column(s). Integer columns in Python cannot represent missing values. If your input data contains missing values at inference time, it will be encoded as floats and will cause a schema enforcement error. The best way to avoid this problem is to infer the model schema based on a realistic data sample (training dataset) that includes missing values. Alternatively, you can declare integer columns as doubles (float64) whenever these columns may have missing values. See `Handling Integers With Missing Values <https://www.mlflow.org/docs/latest/models.html#handling-integers-with-missing-values>`_ for more details.\n",
      "  warnings.warn(\n",
      "2025/10/31 10:56:55 WARNING mlflow.models.model: `artifact_path` is deprecated. Please use `name` instead.\n",
      "Successfully registered model 'LogisticRegression_weight_scaled'.\n",
      "2025/10/31 10:56:57 INFO mlflow.store.model_registry.abstract_store: Waiting up to 300 seconds for model version to finish creation. Model name: LogisticRegression_weight_scaled, version 1\n",
      "Created version '1' of model 'LogisticRegression_weight_scaled'.\n"
     ]
    },
    {
     "name": "stdout",
     "output_type": "stream",
     "text": [
      "🏃 View run LogisticRegression_SMOTE at: http://127.0.0.1:5001/#/experiments/1/runs/bce76bde999549278c1b7f051d28fee7\n",
      "🧪 View experiment at: http://127.0.0.1:5001/#/experiments/1\n"
     ]
    },
    {
     "name": "stderr",
     "output_type": "stream",
     "text": [
      "/opt/anaconda3/lib/python3.12/site-packages/mlflow/types/utils.py:452: UserWarning: Hint: Inferred schema contains integer column(s). Integer columns in Python cannot represent missing values. If your input data contains missing values at inference time, it will be encoded as floats and will cause a schema enforcement error. The best way to avoid this problem is to infer the model schema based on a realistic data sample (training dataset) that includes missing values. Alternatively, you can declare integer columns as doubles (float64) whenever these columns may have missing values. See `Handling Integers With Missing Values <https://www.mlflow.org/docs/latest/models.html#handling-integers-with-missing-values>`_ for more details.\n",
      "  warnings.warn(\n",
      "2025/10/31 10:58:27 WARNING mlflow.models.model: `artifact_path` is deprecated. Please use `name` instead.\n",
      "Successfully registered model 'RandomForest_weight_scaled'.\n",
      "2025/10/31 10:58:39 INFO mlflow.store.model_registry.abstract_store: Waiting up to 300 seconds for model version to finish creation. Model name: RandomForest_weight_scaled, version 1\n",
      "Created version '1' of model 'RandomForest_weight_scaled'.\n"
     ]
    },
    {
     "name": "stdout",
     "output_type": "stream",
     "text": [
      "🏃 View run RandomForest_SMOTE at: http://127.0.0.1:5001/#/experiments/1/runs/feb333e05e5042e5bbf257b822338f22\n",
      "🧪 View experiment at: http://127.0.0.1:5001/#/experiments/1\n"
     ]
    },
    {
     "name": "stderr",
     "output_type": "stream",
     "text": [
      "/opt/anaconda3/lib/python3.12/site-packages/mlflow/types/utils.py:452: UserWarning: Hint: Inferred schema contains integer column(s). Integer columns in Python cannot represent missing values. If your input data contains missing values at inference time, it will be encoded as floats and will cause a schema enforcement error. The best way to avoid this problem is to infer the model schema based on a realistic data sample (training dataset) that includes missing values. Alternatively, you can declare integer columns as doubles (float64) whenever these columns may have missing values. See `Handling Integers With Missing Values <https://www.mlflow.org/docs/latest/models.html#handling-integers-with-missing-values>`_ for more details.\n",
      "  warnings.warn(\n",
      "2025/10/31 10:58:42 WARNING mlflow.models.model: `artifact_path` is deprecated. Please use `name` instead.\n",
      "Successfully registered model 'XGBoost_weight_scaled'.\n",
      "2025/10/31 10:58:44 INFO mlflow.store.model_registry.abstract_store: Waiting up to 300 seconds for model version to finish creation. Model name: XGBoost_weight_scaled, version 1\n",
      "Created version '1' of model 'XGBoost_weight_scaled'.\n"
     ]
    },
    {
     "name": "stdout",
     "output_type": "stream",
     "text": [
      "🏃 View run XGBoost_SMOTE at: http://127.0.0.1:5001/#/experiments/1/runs/878ea1251235445395dabbb23b35a543\n",
      "🧪 View experiment at: http://127.0.0.1:5001/#/experiments/1\n"
     ]
    },
    {
     "name": "stderr",
     "output_type": "stream",
     "text": [
      "/opt/anaconda3/lib/python3.12/site-packages/sklearn/metrics/_classification.py:1509: UndefinedMetricWarning: Precision is ill-defined and being set to 0.0 due to no predicted samples. Use `zero_division` parameter to control this behavior.\n",
      "  _warn_prf(average, modifier, f\"{metric.capitalize()} is\", len(result))\n",
      "/opt/anaconda3/lib/python3.12/site-packages/mlflow/types/utils.py:452: UserWarning: Hint: Inferred schema contains integer column(s). Integer columns in Python cannot represent missing values. If your input data contains missing values at inference time, it will be encoded as floats and will cause a schema enforcement error. The best way to avoid this problem is to infer the model schema based on a realistic data sample (training dataset) that includes missing values. Alternatively, you can declare integer columns as doubles (float64) whenever these columns may have missing values. See `Handling Integers With Missing Values <https://www.mlflow.org/docs/latest/models.html#handling-integers-with-missing-values>`_ for more details.\n",
      "  warnings.warn(\n",
      "2025/10/31 11:02:00 WARNING mlflow.models.model: `artifact_path` is deprecated. Please use `name` instead.\n",
      "Successfully registered model 'NeuralNet_weight_scaled'.\n",
      "2025/10/31 11:02:01 INFO mlflow.store.model_registry.abstract_store: Waiting up to 300 seconds for model version to finish creation. Model name: NeuralNet_weight_scaled, version 1\n"
     ]
    },
    {
     "name": "stdout",
     "output_type": "stream",
     "text": [
      "🏃 View run NeuralNet_SMOTE at: http://127.0.0.1:5001/#/experiments/1/runs/c82a2915b87743c5878be812d4568ab7\n",
      "🧪 View experiment at: http://127.0.0.1:5001/#/experiments/1\n",
      "🏃 View run Model_Comparison_SMOTE at: http://127.0.0.1:5001/#/experiments/1/runs/4550a3972c8b4c47bac6ded8a1c31a28\n",
      "🧪 View experiment at: http://127.0.0.1:5001/#/experiments/1\n"
     ]
    },
    {
     "name": "stderr",
     "output_type": "stream",
     "text": [
      "Created version '1' of model 'NeuralNet_weight_scaled'.\n"
     ]
    }
   ],
   "source": [
    "# Needed for XGB\n",
    "scale_pos_weight = len(y_train[y_train==0]) / len(y_train[y_train==1])\n",
    "\n",
    "models = {\n",
    "    \"LogisticRegression\": LogisticRegression(max_iter=2000),\n",
    "    \"RandomForest\": RandomForestClassifier(n_estimators=200, class_weight=\"balanced\", random_state=2),\n",
    "    \"XGBoost\": XGBClassifier(n_estimators=300, learning_rate=0.05, max_depth=5, subsample=0.8, eval_metric=\"logloss\", scale_pos_weight=scale_pos_weight, random_state=2),\n",
    "    \"NeuralNet\": MLPClassifier(hidden_layer_sizes=(128, 64), activation='relu', solver='adam', max_iter=300, random_state=2)\n",
    "}\n",
    "\n",
    "with mlflow.start_run(run_name=\"Model_Comparison_SMOTE\"):\n",
    "\n",
    "    for model_name, model in models.items():\n",
    "        with mlflow.start_run(run_name=f\"{model_name}_SMOTE\", nested=True):\n",
    "\n",
    "            # Train on SMOTE-balanced data\n",
    "            model.fit(X_train, y_train)\n",
    "\n",
    "            # Evaluate on original (Non-SMOTE) test data\n",
    "            preds = model.predict(X_test)\n",
    "            probs = model.predict_proba(X_test)[:,1]\n",
    "\n",
    "            mlflow.log_params(model.get_params())\n",
    "            mlflow.log_metric(\"accuracy\", accuracy_score(y_test, preds))\n",
    "            mlflow.log_metric(\"f1_score\", f1_score(y_test, preds))\n",
    "            mlflow.log_metric(\"roc_auc\", roc_auc_score(y_test, probs))\n",
    "            mlflow.log_metric(\"precision\", precision_score(y_test, preds))\n",
    "            mlflow.log_metric(\"recall\", recall_score(y_test, preds))\n",
    "\n",
    "            signature = infer_signature(X_train, model.predict(X_train))\n",
    "            input_example = X_train[:5]\n",
    "\n",
    "            mlflow.sklearn.log_model(\n",
    "                model,\n",
    "                artifact_path=model_name+\"_weight_scaled\",\n",
    "                registered_model_name=model_name+\"_weight_scaled\",\n",
    "                signature=signature,\n",
    "                input_example=input_example\n",
    "            )"
   ]
  }
 ],
 "metadata": {
  "kernelspec": {
   "display_name": "base",
   "language": "python",
   "name": "python3"
  },
  "language_info": {
   "codemirror_mode": {
    "name": "ipython",
    "version": 3
   },
   "file_extension": ".py",
   "mimetype": "text/x-python",
   "name": "python",
   "nbconvert_exporter": "python",
   "pygments_lexer": "ipython3",
   "version": "3.12.4"
  }
 },
 "nbformat": 4,
 "nbformat_minor": 5
}
